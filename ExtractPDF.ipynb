{
 "cells": [
  {
   "cell_type": "code",
   "execution_count": 4,
   "id": "bf3787de-0aed-46a3-865b-44dbde6fe47d",
   "metadata": {},
   "outputs": [
    {
     "name": "stdout",
     "output_type": "stream",
     "text": [
      "Text extraction complete.\n"
     ]
    }
   ],
   "source": [
    "import fitz  # PyMuPDF\n",
    "\n",
    "# Path to your PDF file\n",
    "pdf_path = r'C:\\Users\\Krishna\\AI Use case\\Attention all u need.pdf'  # Update this path if necessary\n",
    "\n",
    "# Open the PDF\n",
    "doc = fitz.open(pdf_path)\n",
    "\n",
    "# Initialize a dictionary to store text from each page\n",
    "pdf_text = {}\n",
    "\n",
    "# Extract text from each page\n",
    "for page_num in range(doc.page_count):\n",
    "    page = doc.load_page(page_num)\n",
    "    text = page.get_text()\n",
    "    pdf_text[page_num + 1] = text\n",
    "\n",
    "doc.close()\n",
    "\n",
    "# Save extracted text to a file for reference\n",
    "with open('extracted_text.txt', 'w', encoding='utf-8') as file:\n",
    "    for page, content in pdf_text.items():\n",
    "        file.write(f\"Page {page}:\\n{content}\\n{'-'*80}\\n\")\n",
    "\n",
    "print(\"Text extraction complete.\")\n"
   ]
  },
  {
   "cell_type": "code",
   "execution_count": null,
   "id": "a3594111-ee69-402b-b1ae-3d8d3b913888",
   "metadata": {},
   "outputs": [],
   "source": []
  }
 ],
 "metadata": {
  "kernelspec": {
   "display_name": "Python 3 (ipykernel)",
   "language": "python",
   "name": "python3"
  },
  "language_info": {
   "codemirror_mode": {
    "name": "ipython",
    "version": 3
   },
   "file_extension": ".py",
   "mimetype": "text/x-python",
   "name": "python",
   "nbconvert_exporter": "python",
   "pygments_lexer": "ipython3",
   "version": "3.12.4"
  }
 },
 "nbformat": 4,
 "nbformat_minor": 5
}
